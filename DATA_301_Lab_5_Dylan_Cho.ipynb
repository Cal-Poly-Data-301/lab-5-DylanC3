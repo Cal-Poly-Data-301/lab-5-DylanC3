{
  "nbformat": 4,
  "nbformat_minor": 0,
  "metadata": {
    "kernelspec": {
      "display_name": "Python 3",
      "language": "python",
      "name": "python3"
    },
    "language_info": {
      "codemirror_mode": {
        "name": "ipython",
        "version": 3
      },
      "file_extension": ".py",
      "mimetype": "text/x-python",
      "name": "python",
      "nbconvert_exporter": "python",
      "pygments_lexer": "ipython3",
      "version": "3.6.8"
    },
    "colab": {
      "name": "Copy of DATA 301 Lab 5 - Dylan Cho",
      "provenance": [],
      "collapsed_sections": [],
      "include_colab_link": true
    }
  },
  "cells": [
    {
      "cell_type": "markdown",
      "metadata": {
        "id": "view-in-github",
        "colab_type": "text"
      },
      "source": [
        "<a href=\"https://colab.research.google.com/github/DylanC3/lab-5-DylanC3/blob/main/DATA_301_Lab_5_Dylan_Cho.ipynb\" target=\"_parent\"><img src=\"https://colab.research.google.com/assets/colab-badge.svg\" alt=\"Open In Colab\"/></a>"
      ]
    },
    {
      "cell_type": "markdown",
      "metadata": {
        "id": "iG3X1KFIBLUK"
      },
      "source": [
        "# Authorship of the Federalist Papers\n",
        "\n",
        "The _Federalist Papers_ were a set of 85 essays published between 1787 and 1788 to promote the ratification of the United States Constitution. They were originally published under the pseudonym \"Publius\". Although the identity of the authors was a closely guarded secret at the time, most of the papers have since been conclusively attributed to one of Hamilton, Jay, or Madison. The known authorships can be found in `https://dlsun.github.io/pods/data/federalist/authorship.csv`.\n",
        "\n",
        "For 15 of the papers, however, the authorships remain disputed. (These papers can be identified from the `authorship.csv` file because the \"Author\" field is blank.) In this analysis, you will use the papers with known authorship to predict the authorships of the disputed papers. The text of each paper is available at `https://dlsun.github.io/pods/data/federalist/x.txt`, where `x` is the number of the paper (i.e., a number from 1 to 85). The name of the file indicates the number of the paper."
      ]
    },
    {
      "cell_type": "code",
      "source": [
        "import pandas as pd\n",
        "\n",
        "df_fed = pd.read_csv(\"https://dlsun.github.io/pods/data/federalist/authorship.csv\") \n",
        "\n",
        "def author(a):\n",
        "  if pd.isnull(a) == True:\n",
        "    return \"NA\"\n",
        "  return a\n",
        "\n",
        "df_fed.Author = df_fed.Author.map(author)\n",
        "\n",
        "df_unknown = df_fed[df_fed.Author == \"NA\"] # df unknown has 15 unknown author\n",
        "NA_list = []\n",
        "for paper in df_unknown[\"Paper\"]:\n",
        "  NA_list.append(paper)"
      ],
      "metadata": {
        "id": "ni8t2cElGokP"
      },
      "execution_count": 139,
      "outputs": []
    },
    {
      "cell_type": "code",
      "source": [
        "df_fed.set_index(\"Paper\")\n",
        "df_train = df_fed.drop(index=NA_list) # df train has 70 values of known authors -> unused so far\n",
        "# df_fed is all combined"
      ],
      "metadata": {
        "id": "LvRr7f2aTZ2E"
      },
      "execution_count": 140,
      "outputs": []
    },
    {
      "cell_type": "markdown",
      "metadata": {
        "id": "8YRe6SB3BLUN"
      },
      "source": [
        "## Question 1\n",
        "\n",
        "When analyzing an author's style, common words like \"the\" and \"on\" are actually more useful than rare words like \"hostilities\". That is because rare words typically signify context. Context is useful if you are trying to find documents about similar topics, but not so useful if you are trying to identify an author's style because different authors can write about the same topic. For example, both Dr. Seuss and Charles Dickens used rare words like \"chimney\" and \"stockings\" in _How the Grinch Stole Christmas_ and _A Christmas Carol_, respectively. But they used common words very differently: Dickens used the word \"upon\" over 100 times, while Dr. Seuss did not use \"upon\" even once.\n",
        "\n",
        "Read in the Federalist Papers. Convert each one into a vector of term frequencies. In order to restrict to common words, include only the top 50 words across the corpus. (Because we are restricting to the most common words already, there is no reason to reweight them using TF-IDF.)"
      ]
    },
    {
      "cell_type": "code",
      "source": [
        "import requests\n",
        "texts = pd.Series()\n",
        "\n",
        "for index in df_fed[\"Paper\"]:\n",
        "  response = requests.get(\"https://dlsun.github.io/pods/data/federalist/\" + str(index) + \".txt\", \"r\")\n",
        "  texts[str(df_fed[df_fed.Paper == index])] = response.text"
      ],
      "metadata": {
        "id": "l4XmIIwzJLVi",
        "colab": {
          "base_uri": "https://localhost:8080/"
        },
        "outputId": "163e3191-4024-4c77-fb75-44cf620cd74a"
      },
      "execution_count": 141,
      "outputs": [
        {
          "output_type": "stream",
          "name": "stderr",
          "text": [
            "/usr/local/lib/python3.7/dist-packages/ipykernel_launcher.py:2: DeprecationWarning: The default dtype for empty Series will be 'object' instead of 'float64' in a future version. Specify a dtype explicitly to silence this warning.\n",
            "  \n"
          ]
        }
      ]
    },
    {
      "cell_type": "code",
      "source": [
        "from collections import Counter\n",
        "from sklearn.feature_extraction.text import CountVectorizer\n",
        "\n",
        "vec = CountVectorizer() # can adjust token_pattern to include single letter words\n",
        "vec.fit(texts)\n",
        "tf_sparse = vec.transform(texts)\n",
        "\n",
        "df_tf = pd.DataFrame(tf_sparse.todense(),\n",
        "                     columns=vec.get_feature_names())"
      ],
      "metadata": {
        "colab": {
          "base_uri": "https://localhost:8080/"
        },
        "id": "8qSII9stMj81",
        "outputId": "61993c0e-ecac-4a27-f6bd-4dbe78b3a394"
      },
      "execution_count": 142,
      "outputs": [
        {
          "output_type": "stream",
          "name": "stderr",
          "text": [
            "/usr/local/lib/python3.7/dist-packages/sklearn/utils/deprecation.py:87: FutureWarning: Function get_feature_names is deprecated; get_feature_names is deprecated in 1.0 and will be removed in 1.2. Please use get_feature_names_out instead.\n",
            "  warnings.warn(msg, category=FutureWarning)\n"
          ]
        }
      ]
    },
    {
      "cell_type": "code",
      "source": [
        "df_tf.sum(axis=0).sort_values(ascending=False).head(50) # top 50 words across corpus"
      ],
      "metadata": {
        "colab": {
          "base_uri": "https://localhost:8080/"
        },
        "id": "3kJc_AgkQUCq",
        "outputId": "6e119c17-5eb3-4a6f-e992-1c7fe6792b2b"
      },
      "execution_count": 143,
      "outputs": [
        {
          "output_type": "execute_result",
          "data": {
            "text/plain": [
              "the             17767\n",
              "of              11824\n",
              "to               7074\n",
              "and              5099\n",
              "in               4456\n",
              "be               3825\n",
              "that             2792\n",
              "it               2550\n",
              "is               2194\n",
              "which            2068\n",
              "by               1741\n",
              "as               1721\n",
              "this             1410\n",
              "would            1273\n",
              "have             1262\n",
              "will             1255\n",
              "for              1237\n",
              "or               1233\n",
              "not              1215\n",
              "their            1098\n",
              "with             1053\n",
              "from             1043\n",
              "are              1032\n",
              "on                952\n",
              "they              928\n",
              "an                927\n",
              "states            851\n",
              "government        829\n",
              "may               816\n",
              "been              798\n",
              "state             787\n",
              "all               731\n",
              "but               697\n",
              "its               651\n",
              "other             646\n",
              "people            612\n",
              "power             603\n",
              "has               603\n",
              "more              579\n",
              "at                568\n",
              "if                563\n",
              "than              550\n",
              "them              548\n",
              "one               547\n",
              "any               545\n",
              "no                506\n",
              "those             481\n",
              "can               465\n",
              "constitution      463\n",
              "we                461\n",
              "dtype: int64"
            ]
          },
          "metadata": {},
          "execution_count": 143
        }
      ]
    },
    {
      "cell_type": "markdown",
      "metadata": {
        "id": "bDLgJQtaHljA"
      },
      "source": [
        "## Question 2\n",
        "Make a visualization that summarizes the most common words used by Hamilton, Madison, and Jay."
      ]
    },
    {
      "cell_type": "code",
      "source": [
        "indices = []\n",
        "for index in df_fed[df_fed.Author == \"Hamilton\"].Paper:\n",
        "  indices.append(index - 1) # index is 1 less than Paper number\n",
        "\n",
        "df_tf.loc[indices].sum(axis=0).sort_values(ascending=False).head(20).plot.bar() # top 20 visualization"
      ],
      "metadata": {
        "id": "U_PFT_asJMIa",
        "colab": {
          "base_uri": "https://localhost:8080/",
          "height": 303
        },
        "outputId": "3c4580d3-ba93-49ac-dc17-1d5a130328f9"
      },
      "execution_count": 144,
      "outputs": [
        {
          "output_type": "execute_result",
          "data": {
            "text/plain": [
              "<matplotlib.axes._subplots.AxesSubplot at 0x7fc44e3c1110>"
            ]
          },
          "metadata": {},
          "execution_count": 144
        },
        {
          "output_type": "display_data",
          "data": {
            "image/png": "[encoded data removed]",
            "text/plain": [
              "<Figure size 432x288 with 1 Axes>"
            ]
          },
          "metadata": {
            "needs_background": "light"
          }
        }
      ]
    },
    {
      "cell_type": "code",
      "source": [
        "indices = []\n",
        "for index in df_fed[df_fed.Author == \"Madison\"].Paper:\n",
        "  indices.append(index - 1) # index is 1 less than Paper number\n",
        "\n",
        "df_tf.loc[indices].sum(axis=0).sort_values(ascending=False).head(20).plot.bar() # top 20 visualization"
      ],
      "metadata": {
        "colab": {
          "base_uri": "https://localhost:8080/",
          "height": 304
        },
        "id": "Ieg69ARjUzbV",
        "outputId": "2c6a109a-683d-4b95-96c7-4d6699546fc1"
      },
      "execution_count": 145,
      "outputs": [
        {
          "output_type": "execute_result",
          "data": {
            "text/plain": [
              "<matplotlib.axes._subplots.AxesSubplot at 0x7fc44e30d110>"
            ]
          },
          "metadata": {},
          "execution_count": 145
        },
        {
          "output_type": "display_data",
          "data": {
            "image/png": "[encoded data removed]",
            "text/plain": [
              "<Figure size 432x288 with 1 Axes>"
            ]
          },
          "metadata": {
            "needs_background": "light"
          }
        }
      ]
    },
    {
      "cell_type": "code",
      "source": [
        "indices = []\n",
        "for index in df_fed[df_fed.Author == \"Jay\"].Paper:\n",
        "  indices.append(index - 1) # index is 1 less than Paper number\n",
        "\n",
        "df_tf.loc[indices].sum(axis=0).sort_values(ascending=False).head(20).plot.bar() # top 20 visualization"
      ],
      "metadata": {
        "colab": {
          "base_uri": "https://localhost:8080/",
          "height": 303
        },
        "id": "5yjuulsGU1-Z",
        "outputId": "28d8f8a4-1b81-4b1f-d0ee-ebc7b4e29d1e"
      },
      "execution_count": 146,
      "outputs": [
        {
          "output_type": "execute_result",
          "data": {
            "text/plain": [
              "<matplotlib.axes._subplots.AxesSubplot at 0x7fc44e40d090>"
            ]
          },
          "metadata": {},
          "execution_count": 146
        },
        {
          "output_type": "display_data",
          "data": {
            "image/png": "[encoded data removed]",
            "text/plain": [
              "<Figure size 432x288 with 1 Axes>"
            ]
          },
          "metadata": {
            "needs_background": "light"
          }
        }
      ]
    },
    {
      "cell_type": "markdown",
      "metadata": {
        "id": "fh0DzmKrBLUT"
      },
      "source": [
        "## Question 3\n",
        "\n",
        "For each of the documents with disputed authorships, find the 5 most similar documents with _known_ authorships, using cosine distance on the term frequencies. Use the authors of these 5 most similar documents to predict the author of each disputed document. (For example, if 3 of the 5 closest documents were written by Hamilton, 1 by Madison, and 1 by Jay, then we would predict that the disputed document was written by Hamilton.)"
      ]
    },
    {
      "cell_type": "code",
      "source": [
        "from sklearn.metrics.pairwise import cosine_similarity, cosine_distances\n",
        "import numpy as np\n",
        "\n",
        "prediction = pd.Series()\n",
        "sim = cosine_similarity(tf_sparse) "
      ],
      "metadata": {
        "id": "mhwE4vJkJNzy",
        "colab": {
          "base_uri": "https://localhost:8080/"
        },
        "outputId": "2a13aea7-2f84-463e-b4c6-1445fc008b6f"
      },
      "execution_count": 177,
      "outputs": [
        {
          "output_type": "stream",
          "name": "stderr",
          "text": [
            "/usr/local/lib/python3.7/dist-packages/ipykernel_launcher.py:4: DeprecationWarning: The default dtype for empty Series will be 'object' instead of 'float64' in a future version. Specify a dtype explicitly to silence this warning.\n",
            "  after removing the cwd from sys.path.\n"
          ]
        }
      ]
    },
    {
      "cell_type": "code",
      "source": [
        "def max_author(h, m, j): # could use work\n",
        "  if h > m and h > j:\n",
        "    return \"Hamilton\"\n",
        "  elif m > h and m > j:\n",
        "    return \"Madison\"\n",
        "  else:\n",
        "    return \"Jay\""
      ],
      "metadata": {
        "id": "Ee0VNaf1jSm_"
      },
      "execution_count": 192,
      "outputs": []
    },
    {
      "cell_type": "code",
      "source": [
        "for i in df_unknown.Paper: # needs work: not account for unknown similar\n",
        "  index = i - 1\n",
        "  ind = np.argpartition(sim[index], -6)[-6:] # largest 6 indices b/c includes self (remove from count later b/c is NA) \n",
        "  # print(ind)\n",
        "  h = 0\n",
        "  m = 0\n",
        "  j = 0\n",
        "  for p in ind: # iterate largest 6\n",
        "    if sim[i][p] < 1: # not itself   \n",
        "      if df_fed.loc[p].Author == \"Hamilton\":\n",
        "        h += 1\n",
        "      elif df_fed.loc[p].Author == \"Madison\":\n",
        "        m += 1\n",
        "      elif df_fed.loc[p].Author == \"Jay\":\n",
        "        j += 1\n",
        "  # print(h, m, j)\n",
        "  prediction[str(index + 1)] = str(max_author(h, m, j)) # index + 1 = Paper #\n",
        "print(prediction)"
      ],
      "metadata": {
        "colab": {
          "base_uri": "https://localhost:8080/"
        },
        "id": "uh7b7jBGjWZF",
        "outputId": "0fde2ce1-8eea-4111-8e4b-e73134dd0c60"
      },
      "execution_count": 197,
      "outputs": [
        {
          "output_type": "stream",
          "name": "stdout",
          "text": [
            "17     Madison\n",
            "18     Madison\n",
            "19    Hamilton\n",
            "48    Hamilton\n",
            "49    Hamilton\n",
            "50    Hamilton\n",
            "51    Hamilton\n",
            "52    Hamilton\n",
            "53    Hamilton\n",
            "54    Hamilton\n",
            "55    Hamilton\n",
            "56         Jay\n",
            "57    Hamilton\n",
            "61    Hamilton\n",
            "62    Hamilton\n",
            "20    Hamilton\n",
            "58    Hamilton\n",
            "63    Hamilton\n",
            "dtype: object\n"
          ]
        }
      ]
    },
    {
      "cell_type": "markdown",
      "metadata": {
        "id": "8Ng3BgkXBLUw"
      },
      "source": [
        "## Submission Instructions\n",
        "\n",
        "- Copy this notebook to your own Drive, if you have not already.\n",
        "- Restart this notebook and run the cells from beginning to end. \n",
        "  - Go to Runtime > Restart and Run All.\n",
        "- Rename this notebook by clicking on \"DATA 301 Lab 5 - YOUR NAMES HERE\" at the very top of this page. Replace \"YOUR NAMES HERE\" with the first and last names of you (and your partners, for Phase 2).\n",
        "- Get the link to your notebook:\n",
        "  - Click on \"Share\" at the top-right. \n",
        "  - Change the settings to \"Anyone with the link can view\". \n",
        "  - Copy the sharing link into Canvas."
      ]
    }
  ]
}